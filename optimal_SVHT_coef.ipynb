{
 "cells": [
  {
   "cell_type": "code",
   "execution_count": 1,
   "metadata": {},
   "outputs": [],
   "source": [
    "import numpy as np\n",
    "import matplotlib.pyplot as plt\n",
    "from scipy import integrate\n",
    "import csv\n",
    "from scipy import optimize\n",
    "from sklearn.linear_model import Lasso\n",
    "from sklearn.model_selection import train_test_split\n",
    "\n",
    "\n",
    "from numpy import linalg as LA\n",
    "import scipy.sparse as sparse\n",
    "from scipy.sparse import csc_matrix\n",
    "from scipy.sparse import dia_matrix\n",
    "import itertools\n",
    "from itertools import combinations\n",
    "import operator\n",
    "\n",
    "import math\n",
    "import scipy.integrate as integrate"
   ]
  },
  {
   "cell_type": "code",
   "execution_count": 2,
   "metadata": {},
   "outputs": [],
   "source": [
    "# def MM(t, pop,IC):\n",
    "#     #IC is the \n",
    "#     a_r, a_s, a_m, K, e, f = 1.1, 2.0, 1.1, 10**6, 0.00001, 0.00001\n",
    "#     R, S, M = pop\n",
    "#     return [a_r*R*(1-(R+S+M)/K),\n",
    "#             a_s*S*(1-(R+S+M)/K) - e*S*R - f*S*M,\n",
    "#             a_m*M*(1-(R+S+M)/K) + e*S*R + f*S*M]\n",
    "\n",
    "# tspan = np.linspace(0, 20, num=2001)\n",
    "# dt = 0.01\n",
    "# ini = [10, 10000, 0]\n",
    "# sol = integrate.solve_ivp(RSM, [tspan[0], tspan[-1]], ini, method='RK45', t_eval=tspan)\n",
    "\n",
    "# plt.plot(sol.t, sol.y[0].T, label='R')\n",
    "# plt.plot(sol.t, sol.y[1].T, label='S')\n",
    "# plt.plot(sol.t, sol.y[2].T, label='M')\n",
    "# plt.legend()\n",
    "# plt.show()\n",
    "# # print(sol.y.shape)"
   ]
  },
  {
   "cell_type": "code",
   "execution_count": 3,
   "metadata": {},
   "outputs": [
    {
     "data": {
      "text/plain": [
       "array([1., 1., 0.])"
      ]
     },
     "execution_count": 3,
     "metadata": {},
     "output_type": "execute_result"
    }
   ],
   "source": [
    "Q=[0,0,1]\n",
    "# m,n=Q.shape\n",
    "P=np.zeros(len(Q))\n",
    "# P\n",
    "for q in range(len(Q)):\n",
    "    if Q[q]==0:\n",
    "        P[q]=1\n",
    "P"
   ]
  },
  {
   "cell_type": "code",
   "execution_count": 4,
   "metadata": {},
   "outputs": [
    {
     "data": {
      "text/plain": [
       "array([2., 2., 2.])"
      ]
     },
     "execution_count": 4,
     "metadata": {},
     "output_type": "execute_result"
    }
   ],
   "source": [
    "co=[2]\n",
    "co*np.ones(len(Q))"
   ]
  },
  {
   "cell_type": "code",
   "execution_count": 5,
   "metadata": {},
   "outputs": [],
   "source": [
    "def IfElse(Q,point,counterPoint):\n",
    "    #if Q, POINT, COUNTERPOINT ARE arrays???; len(point) should equal or greater than len(Q)!\n",
    "    y=point;\n",
    "    P=np.zeros(len(Q))\n",
    "    # P is 'not Q or ~Q'\n",
    "    for q in range(len(Q)):\n",
    "        if Q[q]==0:\n",
    "            P[q]=1\n",
    "    if len(counterPoint)==1:\n",
    "        counterPoint = counterPoint*np.ones(len(Q))\n",
    "\n",
    "    for p in range(len(P)):\n",
    "            \n",
    "        if P[p]==1:\n",
    "            y[p]=counterPoint[p]\n",
    "    \n",
    "    return y\n",
    "            "
   ]
  },
  {
   "cell_type": "code",
   "execution_count": 6,
   "metadata": {},
   "outputs": [
    {
     "data": {
      "text/plain": [
       "array([9, 9, 3, 9, 7])"
      ]
     },
     "execution_count": 6,
     "metadata": {},
     "output_type": "execute_result"
    }
   ],
   "source": [
    "#test\n",
    "Q=np.array([0,0,5,0])\n",
    "point=np.array([2,4,3,1,7])\n",
    "counterPoint=np.array([9])\n",
    "# counterPoint\n",
    "IfElse(Q, point, counterPoint)"
   ]
  },
  {
   "cell_type": "code",
   "execution_count": 17,
   "metadata": {},
   "outputs": [
    {
     "data": {
      "text/plain": [
       "array([9])"
      ]
     },
     "execution_count": 17,
     "metadata": {},
     "output_type": "execute_result"
    }
   ],
   "source": [
    "np.array([9])"
   ]
  },
  {
   "cell_type": "code",
   "execution_count": 7,
   "metadata": {},
   "outputs": [],
   "source": [
    "def Fun_MarPas(x,beta,gamma):\n",
    "    topSpec = (1 + np.sqrt(beta))**2\n",
    "    botSpec = (1 - np.sqrt(beta))**2\n",
    "    Q=(topSpec-x)*(x-botSpec)\n",
    "    for q in range(len(Q)):\n",
    "        if Q[q]>0:\n",
    "            Q[q]=1\n",
    "        else:\n",
    "            Q[q]=0\n",
    "    point = np.sqrt((topSpec-x)*(x-botSpec))/(beta*x)/(2*np.pi)  \n",
    "    InitialMar = IfElse(Q,point,np.array([0])) #'0' number used to replace others\n",
    "    if np.all(gamma != 0):\n",
    "        return np.power(list(x),list(gamma))*InitialMar\n",
    "    else:\n",
    "        return InitialMar\n",
    "    \n",
    "    \n",
    "    \n",
    "#### separate\n",
    "def MarPas(x,beta):\n",
    "    topSpec = (1 + np.sqrt(beta))**2\n",
    "    botSpec = (1 - np.sqrt(beta))**2\n",
    "    Q=(topSpec-x)*(x-botSpec)\n",
    "    for q in range(len(Q)):\n",
    "        if Q[q]>0:\n",
    "            Q[q]=1\n",
    "        else:\n",
    "            Q[q]=0\n",
    "    point = np.sqrt((topSpec-x)*(x-botSpec))/(beta*x)/(2*np.pi)  \n",
    "    InitialMar = IfElse(Q,point,np.array([0])) #########9#####0\n",
    "#     if np.all(gamma != 0):\n",
    "#         return np.power(list(x),list(gamma))*InitialMar\n",
    "#     else:\n",
    "#         return InitialMar\n",
    "    return InitialMar\n"
   ]
  },
  {
   "cell_type": "code",
   "execution_count": 49,
   "metadata": {},
   "outputs": [
    {
     "name": "stderr",
     "output_type": "stream",
     "text": [
      "C:\\ProgramData\\Anaconda3\\lib\\site-packages\\ipykernel_launcher.py:29: RuntimeWarning: invalid value encountered in sqrt\n"
     ]
    },
    {
     "data": {
      "text/plain": [
       "array([9.        , 0.79577472, 0.79084727])"
      ]
     },
     "execution_count": 49,
     "metadata": {},
     "output_type": "execute_result"
    }
   ],
   "source": [
    "#test\n",
    "# beta=np.array([0.1, 0.2, 0.3])\n",
    "# # gamma=np.array([0.1, 0.1, 0.2])\n",
    "# gamma=np.array([0, 0.1, 0.2])\n",
    "# x=np.array([0.3, 0.4, 0.3])\n",
    "# point=np.array([2,4])\n",
    "# Fun_MarPas(x,beta,gamma)\n",
    "# # IfElse(Q,point,0)\n",
    "\n",
    "###test separate\n",
    "beta=np.array([0.1, 0.2, 0.3])\n",
    "gamma=np.array([0.1, 0.1, 0.2])\n",
    "# gamma=np.array([0, 0.1, 0.2])\n",
    "x=np.array([0.3, 0.4, 0.3])\n",
    "point=np.array([2,4])\n",
    "MarPas(x,beta)\n",
    "# IfElse(Q,point,0)"
   ]
  },
  {
   "cell_type": "code",
   "execution_count": 32,
   "metadata": {},
   "outputs": [],
   "source": [
    "def incMarPas(x0,beta,gamma):\n",
    "    #beta is an array including one (****or more****not true) number; 0<beta<=1 \n",
    "    #x0 is an array with multiple numbers!!!\n",
    "#     for b in beta: \n",
    "#         if b > 1:\n",
    "#             raise Exception('dimension error')\n",
    "    topSpec = (1 + np.sqrt(beta))**2\n",
    "#     botSpec = (1 - np.sqrt(beta))**2\n",
    "    x2=lambda x: Fun_MarPas(x,beta,gamma)\n",
    "    I1 = np.zeros([len(x0)])#I1 is integrate collection\n",
    "    I2 = np.zeros([len(x0)])\n",
    "    for i in range(len(x0)):\n",
    "        X0=x0[i]\n",
    "        RES = integrate.quad(x2,np.array([X0]), topSpec)\n",
    "        I1[i] = RES[0]\n",
    "        I2[i] = RES[1]\n",
    "#     return integrate.quad(x2, x0, topSpec)  #the first part of return is integrate\n",
    "    return I1"
   ]
  },
  {
   "cell_type": "code",
   "execution_count": 10,
   "metadata": {},
   "outputs": [
    {
     "name": "stderr",
     "output_type": "stream",
     "text": [
      "C:\\ProgramData\\Anaconda3\\lib\\site-packages\\ipykernel_launcher.py:10: RuntimeWarning: invalid value encountered in sqrt\n",
      "  # Remove the CWD from sys.path while we load stuff.\n"
     ]
    },
    {
     "data": {
      "text/plain": [
       "2.6372516236082255"
      ]
     },
     "execution_count": 10,
     "metadata": {},
     "output_type": "execute_result"
    }
   ],
   "source": [
    "# Fun_MarPas(x,beta,gamma)\n",
    "# incMarPas(x,beta,gamma)\n",
    "x=np.array([0.1])\n",
    "beta=np.array([0.22])\n",
    "gamma=np.array([0])\n",
    "I=integrate.quad(lambda xx: Fun_MarPas(xx,beta,gamma), x, (1 + np.sqrt(beta))**2)\n",
    "I[0]"
   ]
  },
  {
   "cell_type": "code",
   "execution_count": 33,
   "metadata": {},
   "outputs": [
    {
     "data": {
      "text/plain": [
       "array([1.        , 0.62953116, 0.31631693, 0.10435709, 0.        ])"
      ]
     },
     "execution_count": 33,
     "metadata": {},
     "output_type": "execute_result"
    }
   ],
   "source": [
    "#test\n",
    "#all inputs are one value/number rather than multiple numbers in a array\n",
    "incMarPas(x,beta,gamma)"
   ]
  },
  {
   "cell_type": "code",
   "execution_count": 12,
   "metadata": {},
   "outputs": [],
   "source": [
    "#if inputs are arrarys including multiple numbers?\n",
    "def incMarPas2(x0,beta,gamma):\n",
    "    #beta is an array including one or more numbers; 0<beta<=1\n",
    "#     for b in beta: \n",
    "#         if b > 1:\n",
    "#             raise Exception('dimension error')\n",
    "    topSpec = (1 + np.sqrt(beta))**2   #is an array including multiple numbers if beta is an array including multiple numbers\n",
    "        \n",
    "\n",
    "    I1 = np.zeros([len(beta)])\n",
    "    I2 = np.zeros([len(beta)])\n",
    "    for i in range(len(beta)):\n",
    "        BETA = beta[i]\n",
    "        GAMMA = gamma[i]\n",
    "        x2=lambda x: Fun_MarPas(x,np.array([BETA]),np.array([GAMMA]))\n",
    "        X0=x0[i]\n",
    "        TOPSPEC=topSpec[i]\n",
    "        RES = integrate.quad(x2,np.array([X0]), np.array([TOPSPEC]))\n",
    "        I1[i] = RES[0]\n",
    "        I2[i] = RES[1]\n",
    "    return I1, I2"
   ]
  },
  {
   "cell_type": "code",
   "execution_count": 13,
   "metadata": {},
   "outputs": [
    {
     "data": {
      "text/plain": [
       "array([2.15808315, 1.73245553, 2.09442719])"
      ]
     },
     "execution_count": 13,
     "metadata": {},
     "output_type": "execute_result"
    }
   ],
   "source": [
    "b=np.array([0.22,0.1,0.2])\n",
    "(1 + np.sqrt(b))**2"
   ]
  },
  {
   "cell_type": "code",
   "execution_count": 14,
   "metadata": {},
   "outputs": [
    {
     "name": "stderr",
     "output_type": "stream",
     "text": [
      "C:\\ProgramData\\Anaconda3\\lib\\site-packages\\ipykernel_launcher.py:10: RuntimeWarning: invalid value encountered in sqrt\n",
      "  # Remove the CWD from sys.path while we load stuff.\n"
     ]
    },
    {
     "data": {
      "text/plain": [
       "(array([2.63725162]), array([3.18701003e-08]))"
      ]
     },
     "execution_count": 14,
     "metadata": {},
     "output_type": "execute_result"
    }
   ],
   "source": [
    "incMarPas2(x,beta,gamma)"
   ]
  },
  {
   "cell_type": "code",
   "execution_count": 16,
   "metadata": {},
   "outputs": [],
   "source": [
    "# incMarPas2(b,b,b)"
   ]
  },
  {
   "cell_type": "code",
   "execution_count": 43,
   "metadata": {},
   "outputs": [],
   "source": [
    "def MedianMarcenkoPastur(beta):\n",
    "    #beta should be one number array!!!here\n",
    "#     MarPas = lambda x: 1-incMarPas(x,beta,np.array([0]))\n",
    "    lobnd = (1-np.sqrt(beta))**2\n",
    "    hibnd = (1+np.sqrt(beta))**2\n",
    "    change = 1\n",
    "    while change and (hibnd - lobnd > 0.001):\n",
    "        change = 0;\n",
    "        x = np.linspace(start = lobnd, stop = hibnd, num = 5)\n",
    "        y = np.zeros(len(x))\n",
    "        for i in range(len(x)):\n",
    "            y[i] = 1-incMarPas(x[i],beta,0)\n",
    "        if any(y<0.5):\n",
    "            lobnd = max(x[y < 0.5])\n",
    "            change = 1\n",
    "        if any(y>0.5):\n",
    "            hibnd = min(x[y > 0.5])\n",
    "            change = 1\n",
    "    return (hibnd+lobnd)/2\n",
    "    "
   ]
  },
  {
   "cell_type": "code",
   "execution_count": 44,
   "metadata": {},
   "outputs": [
    {
     "data": {
      "text/plain": [
       "array([0.92616194])"
      ]
     },
     "execution_count": 44,
     "metadata": {},
     "output_type": "execute_result"
    }
   ],
   "source": [
    "# test\n",
    "MedianMarcenkoPastur(beta)"
   ]
  },
  {
   "cell_type": "code",
   "execution_count": 53,
   "metadata": {},
   "outputs": [],
   "source": [
    "def optimal_SVHT_coef_sigma_known(beta):\n",
    "    #lambda_star\n",
    "    #omit ensuring beta\n",
    "    w = (8*beta)/(beta+1+np.sqrt(beta**2+14*beta+1))\n",
    "    lambda_star = np.sqrt(2*(beta+1)+w)\n",
    "    return lambda_star"
   ]
  },
  {
   "cell_type": "code",
   "execution_count": 54,
   "metadata": {},
   "outputs": [
    {
     "data": {
      "text/plain": [
       "array([1.5816484 , 1.7048151 , 1.80739223])"
      ]
     },
     "execution_count": 54,
     "metadata": {},
     "output_type": "execute_result"
    }
   ],
   "source": [
    "# test\n",
    "optimal_SVHT_coef_sigma_known(beta)"
   ]
  },
  {
   "cell_type": "code",
   "execution_count": 55,
   "metadata": {},
   "outputs": [],
   "source": [
    "def optimal_SVHT_coef_sigma_unknown(beta):\n",
    "    coef = optimal_SVHT_coef_sigma_known(beta)\n",
    "    MPmedian = np.zeros(len(beta))\n",
    "    for i in range(len(beta)):\n",
    "        MPmedian[i] = MedianMarcenkoPastur(beta)\n",
    "    return coef/np.sqrt(MPmedian)"
   ]
  },
  {
   "cell_type": "code",
   "execution_count": 57,
   "metadata": {},
   "outputs": [
    {
     "data": {
      "text/plain": [
       "array([1.79413181])"
      ]
     },
     "execution_count": 57,
     "metadata": {},
     "output_type": "execute_result"
    }
   ],
   "source": [
    "# test\n",
    "beta=np.array([0.22])#MedianMarcenkoPastur can only be applied to one number beta\n",
    "optimal_SVHT_coef_sigma_unknown(beta)"
   ]
  },
  {
   "cell_type": "code",
   "execution_count": null,
   "metadata": {},
   "outputs": [],
   "source": []
  }
 ],
 "metadata": {
  "kernelspec": {
   "display_name": "Python 3",
   "language": "python",
   "name": "python3"
  },
  "language_info": {
   "codemirror_mode": {
    "name": "ipython",
    "version": 3
   },
   "file_extension": ".py",
   "mimetype": "text/x-python",
   "name": "python",
   "nbconvert_exporter": "python",
   "pygments_lexer": "ipython3",
   "version": "3.7.4"
  }
 },
 "nbformat": 4,
 "nbformat_minor": 2
}
