

def abr(t, pop):
    la, lb, lr, ra, rb, rr = pop
    ka, da, dab = 400, 2, 400
    kb, kbb, db, dba = 2, 30, 2.8, 30
    kr, krb, dr = 0.1, 1.5, 0.2

    dladt = ka*(1-la-ra)*lr - da*la - dab*la*lb**2
    dlbdt = (1-lb-rb)*(kb + kbb*lb) - db*lb - dba*la*lb**2
    dlrdt = (1-lr-rr)*(kr+krb*lb) - dr*lr
    dradt = ka*(1-la-ra)*rr - da*ra - dab*ra*rb**2
    drbdt = (1-lb-rb)*(kb + kbb*rb) - db*rb - dba*ra*rb**2
    drrdt = (1-lr-rr)*(kr+krb*rb) - dr*rr

    dpop = [dladt, dlbdt, dlrdt, dradt, drbdt, drrdt]
    
    return dpop